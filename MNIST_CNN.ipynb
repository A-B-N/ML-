{
  "nbformat": 4,
  "nbformat_minor": 0,
  "metadata": {
    "colab": {
      "name": "MNIST_CNN.ipynb",
      "version": "0.3.2",
      "provenance": [],
      "include_colab_link": true
    },
    "kernelspec": {
      "name": "python3",
      "display_name": "Python 3"
    }
  },
  "cells": [
    {
      "cell_type": "markdown",
      "metadata": {
        "id": "view-in-github",
        "colab_type": "text"
      },
      "source": [
        "<a href=\"https://colab.research.google.com/github/A-B-N/ML-/blob/master/MNIST_CNN.ipynb\" target=\"_parent\"><img src=\"https://colab.research.google.com/assets/colab-badge.svg\" alt=\"Open In Colab\"/></a>"
      ]
    },
    {
      "metadata": {
        "id": "wCcEfMeOLXBg",
        "colab_type": "code",
        "outputId": "ecbb1e56-3c8e-4532-83ff-f7d112738ece",
        "colab": {
          "base_uri": "https://localhost:8080/",
          "height": 34
        }
      },
      "cell_type": "code",
      "source": [
        "import numpy\n",
        "from keras.datasets import mnist\n",
        "from keras.models import Sequential\n",
        "from keras.layers import Dense\n",
        "from keras.layers import Dropout\n",
        "from keras.layers import Flatten\n",
        "from keras.layers.convolutional import Conv2D\n",
        "from keras.layers.convolutional import MaxPooling2D\n",
        "from keras.utils import np_utils\n",
        "from keras import backend as K\n",
        "K.set_image_dim_ordering('th')"
      ],
      "execution_count": 1,
      "outputs": [
        {
          "output_type": "stream",
          "text": [
            "Using TensorFlow backend.\n"
          ],
          "name": "stderr"
        }
      ]
    },
    {
      "metadata": {
        "id": "C9R7Z67GNmwn",
        "colab_type": "code",
        "colab": {}
      },
      "cell_type": "code",
      "source": [
        "seed=7\n",
        "numpy.random.seed(seed)"
      ],
      "execution_count": 0,
      "outputs": []
    },
    {
      "metadata": {
        "id": "jtYU64nENuKf",
        "colab_type": "code",
        "colab": {
          "base_uri": "https://localhost:8080/",
          "height": 50
        },
        "outputId": "1fa29101-f8b4-4df8-aad2-119020c36968"
      },
      "cell_type": "code",
      "source": [
        "(X_train,y_train),(X_test,y_test)=mnist.load_data()\n",
        "\n",
        "\n",
        "X_train= X_train.reshape(X_train.shape[0],1,28,28).astype('float32')\n",
        "X_test=X_test.reshape(X_test.shape[0],1,28,28).astype('float32')\n",
        "\n",
        "X_train=X_train/255\n",
        "X_test=X_test/255\n",
        "\n",
        "y_train=np_utils.to_categorical(y_train)\n",
        "y_test=np_utils.to_categorical(y_test)\n",
        "num_classes=y_test.shape[1]"
      ],
      "execution_count": 3,
      "outputs": [
        {
          "output_type": "stream",
          "text": [
            "Downloading data from https://s3.amazonaws.com/img-datasets/mnist.npz\n",
            "11493376/11490434 [==============================] - 1s 0us/step\n"
          ],
          "name": "stdout"
        }
      ]
    },
    {
      "metadata": {
        "id": "VE3UeqOjQD59",
        "colab_type": "code",
        "colab": {}
      },
      "cell_type": "code",
      "source": [
        "def baseline_model():\n",
        "  model=Sequential()\n",
        "  model.add(Conv2D(32,(5,5),input_shape=(1,28,28),activation='relu'))\n",
        "  model.add(MaxPooling2D(pool_size=(2,2)))\n",
        "  model.add(Dropout(0.2))\n",
        "  model.add(Flatten())\n",
        "  model.add(Dense(128,activation='relu'))\n",
        "  model.add(Dense(num_classes,activation='softmax'))\n",
        "  model.compile(loss='categorical_crossentropy',optimizer='adam',metrics=['accuracy'])\n",
        "  return model\n"
      ],
      "execution_count": 0,
      "outputs": []
    },
    {
      "metadata": {
        "id": "qnKSywKBScVr",
        "colab_type": "code",
        "outputId": "258848af-8171-4573-fc3d-b00534d98796",
        "colab": {
          "base_uri": "https://localhost:8080/",
          "height": 558
        }
      },
      "cell_type": "code",
      "source": [
        "model=baseline_model()\n",
        "model.fit(X_train,y_train,validation_data=(X_test,y_test),epochs=10,batch_size=200,verbose=2)\n",
        "scores=model.evaluate(X_test,y_test,verbose=0)\n",
        "print(\"CNN error:%2f%%\"%(100-scores[1]*100))"
      ],
      "execution_count": 5,
      "outputs": [
        {
          "output_type": "stream",
          "text": [
            "WARNING:tensorflow:From /usr/local/lib/python3.6/dist-packages/tensorflow/python/framework/op_def_library.py:263: colocate_with (from tensorflow.python.framework.ops) is deprecated and will be removed in a future version.\n",
            "Instructions for updating:\n",
            "Colocations handled automatically by placer.\n",
            "WARNING:tensorflow:From /usr/local/lib/python3.6/dist-packages/keras/backend/tensorflow_backend.py:3445: calling dropout (from tensorflow.python.ops.nn_ops) with keep_prob is deprecated and will be removed in a future version.\n",
            "Instructions for updating:\n",
            "Please use `rate` instead of `keep_prob`. Rate should be set to `rate = 1 - keep_prob`.\n",
            "WARNING:tensorflow:From /usr/local/lib/python3.6/dist-packages/tensorflow/python/ops/math_ops.py:3066: to_int32 (from tensorflow.python.ops.math_ops) is deprecated and will be removed in a future version.\n",
            "Instructions for updating:\n",
            "Use tf.cast instead.\n",
            "Train on 60000 samples, validate on 10000 samples\n",
            "Epoch 1/10\n",
            " - 61s - loss: 0.2253 - acc: 0.9356 - val_loss: 0.0774 - val_acc: 0.9758\n",
            "Epoch 2/10\n",
            " - 61s - loss: 0.0709 - acc: 0.9788 - val_loss: 0.0441 - val_acc: 0.9851\n",
            "Epoch 3/10\n",
            " - 60s - loss: 0.0506 - acc: 0.9845 - val_loss: 0.0429 - val_acc: 0.9860\n",
            "Epoch 4/10\n",
            " - 60s - loss: 0.0387 - acc: 0.9882 - val_loss: 0.0395 - val_acc: 0.9875\n",
            "Epoch 5/10\n",
            " - 59s - loss: 0.0320 - acc: 0.9898 - val_loss: 0.0338 - val_acc: 0.9887\n",
            "Epoch 6/10\n",
            " - 59s - loss: 0.0263 - acc: 0.9918 - val_loss: 0.0318 - val_acc: 0.9894\n",
            "Epoch 7/10\n",
            " - 60s - loss: 0.0215 - acc: 0.9927 - val_loss: 0.0337 - val_acc: 0.9887\n",
            "Epoch 8/10\n",
            " - 59s - loss: 0.0187 - acc: 0.9943 - val_loss: 0.0330 - val_acc: 0.9888\n",
            "Epoch 9/10\n",
            " - 60s - loss: 0.0149 - acc: 0.9951 - val_loss: 0.0310 - val_acc: 0.9894\n",
            "Epoch 10/10\n",
            " - 60s - loss: 0.0134 - acc: 0.9960 - val_loss: 0.0325 - val_acc: 0.9891\n",
            "CNN error:1.090000%\n"
          ],
          "name": "stdout"
        }
      ]
    }
  ]
}