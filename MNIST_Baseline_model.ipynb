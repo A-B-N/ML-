{
  "nbformat": 4,
  "nbformat_minor": 0,
  "metadata": {
    "colab": {
      "name": "MNIST_Baseline_model.ipynb",
      "version": "0.3.2",
      "provenance": [],
      "collapsed_sections": []
    },
    "kernelspec": {
      "name": "python3",
      "display_name": "Python 3"
    }
  },
  "cells": [
    {
      "metadata": {
        "id": "GO9JEXAkZZ2m",
        "colab_type": "code",
        "colab": {}
      },
      "cell_type": "code",
      "source": [
        "import numpy as np\n",
        "from keras.datasets import mnist\n",
        "from keras.models import Sequential\n",
        "from keras.layers import Dense\n",
        "from keras.layers import Dropout\n",
        "from keras.utils import np_utils"
      ],
      "execution_count": 0,
      "outputs": []
    },
    {
      "metadata": {
        "id": "jyrInJ9a9eoI",
        "colab_type": "code",
        "colab": {}
      },
      "cell_type": "code",
      "source": [
        "seed =7\n",
        "np.random.seed(seed)"
      ],
      "execution_count": 0,
      "outputs": []
    },
    {
      "metadata": {
        "id": "EhNPZIt297SM",
        "colab_type": "code",
        "colab": {}
      },
      "cell_type": "code",
      "source": [
        "(X_train,y_train) , (X_test,y_test) = mnist.load_data()"
      ],
      "execution_count": 0,
      "outputs": []
    },
    {
      "metadata": {
        "id": "hesvg0_0-QYf",
        "colab_type": "code",
        "colab": {}
      },
      "cell_type": "code",
      "source": [
        "num_pixels= X_train.shape[1]*X_train.shape[2]\n",
        "X_train=X_train.reshape(X_train.shape[0],num_pixels).astype('float32')\n",
        "X_test=X_test.reshape(X_test.shape[0],num_pixels).astype('float32')"
      ],
      "execution_count": 0,
      "outputs": []
    },
    {
      "metadata": {
        "id": "BiXL6FFlBEkB",
        "colab_type": "code",
        "colab": {}
      },
      "cell_type": "code",
      "source": [
        "X_train=X_train/255\n",
        "X_test=X_test/255\n",
        "\n",
        "y_train=np_utils.to_categorical(y_train)\n",
        "y_test=np_utils.to_categorical(y_test)\n",
        "num_classes=y_test.shape[1]"
      ],
      "execution_count": 0,
      "outputs": []
    },
    {
      "metadata": {
        "id": "B3fQruZFktvK",
        "colab_type": "code",
        "colab": {}
      },
      "cell_type": "code",
      "source": [
        "def baseline_model():\n",
        "  model= Sequential()\n",
        "  model.add(Dense(num_pixels, input_dim=num_pixels, kernel_initializer= 'normal',activation= 'relu'))\n",
        "  model.add(Dense(num_classes, kernel_initializer='normal', activation= 'softmax'))\n",
        "  model.compile(loss='categorical_crossentropy', optimizer= 'adam', metrics= ['accuracy'])\n",
        "  return model\n"
      ],
      "execution_count": 0,
      "outputs": []
    },
    {
      "metadata": {
        "id": "RX12FR4G0RJj",
        "colab_type": "code",
        "outputId": "8df9931e-781c-4138-81b6-ae2fbe276ef4",
        "colab": {
          "base_uri": "https://localhost:8080/",
          "height": 457
        }
      },
      "cell_type": "code",
      "source": [
        "model=baseline_model()\n",
        "model.fit(X_train,y_train,validation_data=(X_test,y_test),epochs=10,batch_size=200,verbose=2)\n",
        "scores=model.evaluate(X_test,y_test,verbose=0)\n",
        "print(\"Baseline error : %.2f%%\"%(100-scores[1]*100))"
      ],
      "execution_count": 0,
      "outputs": [
        {
          "output_type": "stream",
          "text": [
            "WARNING:tensorflow:From /usr/local/lib/python3.6/dist-packages/tensorflow/python/ops/math_ops.py:3066: to_int32 (from tensorflow.python.ops.math_ops) is deprecated and will be removed in a future version.\n",
            "Instructions for updating:\n",
            "Use tf.cast instead.\n",
            "Train on 60000 samples, validate on 10000 samples\n",
            "Epoch 1/10\n",
            " - 7s - loss: 0.2757 - acc: 0.9218 - val_loss: 0.1396 - val_acc: 0.9601\n",
            "Epoch 2/10\n",
            " - 6s - loss: 0.1107 - acc: 0.9683 - val_loss: 0.0957 - val_acc: 0.9705\n",
            "Epoch 3/10\n",
            " - 6s - loss: 0.0703 - acc: 0.9798 - val_loss: 0.0731 - val_acc: 0.9772\n",
            "Epoch 4/10\n",
            " - 6s - loss: 0.0492 - acc: 0.9860 - val_loss: 0.0693 - val_acc: 0.9791\n",
            "Epoch 5/10\n",
            " - 6s - loss: 0.0360 - acc: 0.9896 - val_loss: 0.0658 - val_acc: 0.9796\n",
            "Epoch 6/10\n",
            " - 6s - loss: 0.0262 - acc: 0.9930 - val_loss: 0.0666 - val_acc: 0.9790\n",
            "Epoch 7/10\n",
            " - 6s - loss: 0.0197 - acc: 0.9952 - val_loss: 0.0589 - val_acc: 0.9817\n",
            "Epoch 8/10\n",
            " - 6s - loss: 0.0150 - acc: 0.9964 - val_loss: 0.0594 - val_acc: 0.9806\n",
            "Epoch 9/10\n",
            " - 6s - loss: 0.0103 - acc: 0.9979 - val_loss: 0.0621 - val_acc: 0.9802\n",
            "Epoch 10/10\n",
            " - 6s - loss: 0.0071 - acc: 0.9988 - val_loss: 0.0589 - val_acc: 0.9814\n",
            "Baseline error : 1.86%\n"
          ],
          "name": "stdout"
        }
      ]
    }
  ]
}